{
 "cells": [
  {
   "cell_type": "markdown",
   "id": "dce563d3-2cc2-474b-a26c-69687db91056",
   "metadata": {},
   "source": [
    "### Moondream efficient vision language model\n",
    "\n",
    "adapted from:  https://github.com/vikhyat/moondream"
   ]
  },
  {
   "cell_type": "code",
   "execution_count": 1,
   "id": "100dc416-4b2e-4c4e-916a-244480b64ced",
   "metadata": {},
   "outputs": [],
   "source": [
    "from transformers import AutoModelForCausalLM, AutoTokenizer\n",
    "from PIL import Image\n",
    "model_id = \"vikhyatk/moondream2\"\n",
    "revision = \"2024-05-20\""
   ]
  },
  {
   "cell_type": "code",
   "execution_count": null,
   "id": "a2c51a7d-08eb-47c0-be1a-f80e92d8e026",
   "metadata": {},
   "outputs": [],
   "source": []
  },
  {
   "cell_type": "code",
   "execution_count": null,
   "id": "98ace334-72fb-4d83-94c5-e9dfa1746e25",
   "metadata": {},
   "outputs": [],
   "source": [
    "model = AutoModelForCausalLM.from_pretrained(\n",
    "    model_id, trust_remote_code=True, revision=revision\n",
    ")\n",
    "tokenizer = AutoTokenizer.from_pretrained(model_id, revision=revision)"
   ]
  },
  {
   "cell_type": "code",
   "execution_count": null,
   "id": "7f1df1d4-63d3-4b77-b397-b74de312919b",
   "metadata": {},
   "outputs": [],
   "source": []
  },
  {
   "cell_type": "code",
   "execution_count": null,
   "id": "8eecd755-45c6-48e8-a11c-9557622d2c94",
   "metadata": {},
   "outputs": [],
   "source": [
    "image = Image.open('<IMAGE_PATH>')\n",
    "enc_image = model.encode_image(image)\n",
    "print(model.answer_question(enc_image, \"Describe this image.\", tokenizer))"
   ]
  },
  {
   "cell_type": "code",
   "execution_count": null,
   "id": "1347ec59-0710-4210-b110-d760736a81c0",
   "metadata": {},
   "outputs": [],
   "source": []
  },
  {
   "cell_type": "code",
   "execution_count": null,
   "id": "630db94d-c23e-4f14-a970-ebd4a438be04",
   "metadata": {},
   "outputs": [],
   "source": []
  },
  {
   "cell_type": "code",
   "execution_count": null,
   "id": "c6cf15b8-30ed-45cb-8372-3e9c1cee88f4",
   "metadata": {},
   "outputs": [],
   "source": []
  },
  {
   "cell_type": "code",
   "execution_count": null,
   "id": "5d6ba0e9-8079-4b17-b1b5-ef53ea7fccd3",
   "metadata": {},
   "outputs": [],
   "source": []
  }
 ],
 "metadata": {
  "kernelspec": {
   "display_name": "Python 3 (ipykernel)",
   "language": "python",
   "name": "python3"
  },
  "language_info": {
   "codemirror_mode": {
    "name": "ipython",
    "version": 3
   },
   "file_extension": ".py",
   "mimetype": "text/x-python",
   "name": "python",
   "nbconvert_exporter": "python",
   "pygments_lexer": "ipython3",
   "version": "3.11.7"
  }
 },
 "nbformat": 4,
 "nbformat_minor": 5
}
